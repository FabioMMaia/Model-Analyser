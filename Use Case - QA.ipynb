{
 "cells": [
  {
   "cell_type": "code",
   "execution_count": 1,
   "id": "cffbfb02",
   "metadata": {},
   "outputs": [],
   "source": [
    "import pandas as pd\n",
    "import numpy as np\n",
    "\n",
    "from model_analyser_functions.consistency_check import general_database_check"
   ]
  },
  {
   "cell_type": "code",
   "execution_count": 2,
   "id": "ae071aa8",
   "metadata": {},
   "outputs": [],
   "source": [
    "# Classification\n",
    "from sklearn.datasets import make_classification\n",
    "\n",
    "td_ref = pd.date_range(start='1/1/2018', periods=8)\n",
    "\n",
    "df = pd.DataFrame()\n",
    "\n",
    "for td_ref_ in td_ref:\n",
    "    data_ =  make_classification(n_samples=2000 + int(50*np.random.random()), \n",
    "                                n_features= 30, \n",
    "                                n_informative=8, \n",
    "                                n_redundant=5,\n",
    "                                n_classes=4)\n",
    "    data = pd.DataFrame(data_[0])\n",
    "    data['target'] = data_[1]\n",
    "    data['anomes'] =  td_ref_\n",
    "    \n",
    "    df = df.append(data)"
   ]
  },
  {
   "cell_type": "code",
   "execution_count": 3,
   "id": "d5321386",
   "metadata": {},
   "outputs": [],
   "source": [
    "df['id'] = df.index"
   ]
  },
  {
   "cell_type": "code",
   "execution_count": 4,
   "id": "48534fae",
   "metadata": {},
   "outputs": [],
   "source": [
    "data_analyser = general_database_check(df, ['id','anomes'], 'anomes')"
   ]
  },
  {
   "cell_type": "code",
   "execution_count": 5,
   "id": "6999e271",
   "metadata": {},
   "outputs": [
    {
     "data": {
      "text/plain": [
       "'duplicates: 0'"
      ]
     },
     "execution_count": 5,
     "metadata": {},
     "output_type": "execute_result"
    }
   ],
   "source": [
    "data_analyser.check_duplicate_keys()"
   ]
  },
  {
   "cell_type": "code",
   "execution_count": 6,
   "id": "fef35db8",
   "metadata": {},
   "outputs": [
    {
     "data": {
      "text/plain": [
       "<Figure size 864x1440 with 0 Axes>"
      ]
     },
     "metadata": {},
     "output_type": "display_data"
    },
    {
     "data": {
      "image/png": "[encoded data removed]",
      "text/plain": [
       "<Figure size 432x288 with 1 Axes>"
      ]
     },
     "metadata": {
      "needs_background": "light"
     },
     "output_type": "display_data"
    }
   ],
   "source": [
    "data_analyser.check_stability()"
   ]
  },
  {
   "cell_type": "code",
   "execution_count": null,
   "id": "e2ca3a64",
   "metadata": {},
   "outputs": [],
   "source": [
    "df"
   ]
  },
  {
   "cell_type": "code",
   "execution_count": null,
   "id": "12f18ec9",
   "metadata": {},
   "outputs": [],
   "source": [
    "df.target"
   ]
  },
  {
   "cell_type": "code",
   "execution_count": null,
   "id": "408174db",
   "metadata": {},
   "outputs": [],
   "source": [
    "df[['anomes','target']].duplicated(keep=False)"
   ]
  },
  {
   "cell_type": "code",
   "execution_count": null,
   "id": "0c3f356f",
   "metadata": {},
   "outputs": [],
   "source": []
  }
 ],
 "metadata": {
  "kernelspec": {
   "display_name": "Python 3",
   "language": "python",
   "name": "python3"
  },
  "language_info": {
   "codemirror_mode": {
    "name": "ipython",
    "version": 3
   },
   "file_extension": ".py",
   "mimetype": "text/x-python",
   "name": "python",
   "nbconvert_exporter": "python",
   "pygments_lexer": "ipython3",
   "version": "3.7.10"
  },
  "varInspector": {
   "cols": {
    "lenName": 16,
    "lenType": 16,
    "lenVar": 40
   },
   "kernels_config": {
    "python": {
     "delete_cmd_postfix": "",
     "delete_cmd_prefix": "del ",
     "library": "var_list.py",
     "varRefreshCmd": "print(var_dic_list())"
    },
    "r": {
     "delete_cmd_postfix": ") ",
     "delete_cmd_prefix": "rm(",
     "library": "var_list.r",
     "varRefreshCmd": "cat(var_dic_list()) "
    }
   },
   "types_to_exclude": [
    "module",
    "function",
    "builtin_function_or_method",
    "instance",
    "_Feature"
   ],
   "window_display": false
  }
 },
 "nbformat": 4,
 "nbformat_minor": 5
}
